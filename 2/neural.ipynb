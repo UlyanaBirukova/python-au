{
  "nbformat": 4,
  "nbformat_minor": 0,
  "metadata": {
    "colab": {
      "name": "Untitled5.ipynb",
      "provenance": [],
      "authorship_tag": "ABX9TyOq14eDGs5yy9fETQ24KAUb"
    },
    "kernelspec": {
      "name": "python3",
      "display_name": "Python 3"
    },
    "language_info": {
      "name": "python"
    }
  },
  "cells": [
    {
      "cell_type": "code",
      "execution_count": 1,
      "metadata": {
        "colab": {
          "base_uri": "https://localhost:8080/"
        },
        "id": "j8nfGV3YXuh0",
        "outputId": "dc9b87e6-78a0-404d-ee89-096b5ea21ee2"
      },
      "outputs": [
        {
          "output_type": "stream",
          "name": "stdout",
          "text": [
            "TensorFlow v 2.8.2\n"
          ]
        }
      ],
      "source": [
        "#\n",
        "%tensorflow_version 2.x\n",
        "%matplotlib inline\n",
        "import os\n",
        "import numpy as np\n",
        "\n",
        "import tensorflow as tf\n",
        "import tensorflow\n",
        "from tensorflow.keras.models import Model\n",
        "from tensorflow.keras.layers import Dense, Input\n",
        "import math\n",
        "import logging\n",
        "logging.getLogger('tensorflow').setLevel(logging.WARNING)\n",
        "\n",
        "# tf.enable_eager_execution()\n",
        "\n",
        "print(\"TensorFlow v\", tf.version.VERSION)"
      ]
    },
    {
      "cell_type": "code",
      "source": [
        "#\n",
        "# input data\n",
        "\n",
        "np.random.seed(1)\n",
        "A = (np.random.random((1000, 2)) * 4.0 - 2.0).astype(np.float32)\n",
        "V = [ np.float32( (x * x + y * y <= 4.0) and (x * x + y * y >= 1.1) or (x * x + y * y <= 0.25)) for (x, y) in A ]\n",
        "\n",
        "if len(tensorflow.test.gpu_device_name()):  # GPU\n",
        "    mode = 'GPU'\n",
        "elif False:  # TPU \n",
        "    mode = 'TPU'\n",
        "else:\n",
        "    mode = 'CPU'\n",
        "\n",
        "print(\"Mode:\", mode)\n",
        "# mode = 'CPU'\n",
        "\n",
        "logging.getLogger('tensorflow').setLevel(logging.INFO)\n",
        "if mode == 'GPU':\n",
        "    strategy = tensorflow.distribute.MirroredStrategy(\n",
        "        devices=[tensorflow.test.gpu_device_name()]\n",
        "    )\n",
        "elif mode == 'TPU':\n",
        "    resolver = tf.distribute.cluster_resolver.TPUClusterResolver(tpu='grpc://' + os.environ['COLAB_TPU_ADDR'])\n",
        "    tf.config.experimental_connect_to_host(resolver.master())\n",
        "    tf.tpu.experimental.initialize_tpu_system(resolver)\n",
        "    strategy = tf.distribute.experimental.TPUStrategy(resolver)\n",
        "else:  # mode == 'CPU'\n",
        "      strategy = tensorflow.distribute.MirroredStrategy(devices=['CPU'])\n",
        "\n",
        "logging.getLogger('tensorflow').setLevel(logging.WARNING)\n",
        "print(f\"Strategy is {strategy}.\")"
      ],
      "metadata": {
        "colab": {
          "base_uri": "https://localhost:8080/"
        },
        "id": "RbOJrgSxXv35",
        "outputId": "20baf808-d8f1-4003-f473-8fc9b1d04805"
      },
      "execution_count": 8,
      "outputs": [
        {
          "output_type": "stream",
          "name": "stdout",
          "text": [
            "Mode: CPU\n",
            "WARNING:tensorflow:There are non-GPU devices in `tf.distribute.Strategy`, not using nccl allreduce.\n",
            "INFO:tensorflow:Using MirroredStrategy with devices ('/job:localhost/replica:0/task:0/device:CPU:0',)\n",
            "Strategy is <tensorflow.python.distribute.mirrored_strategy.MirroredStrategy object at 0x7f83bdb19f90>.\n",
            ]
        }
      ]
    },
    {
      "cell_type": "code",
      "source": [
        "#\n",
        "with strategy.scope() as scope:\n",
        "    model = tf.keras.Sequential([\n",
        "        Input(2),\n",
        "        Dense(18, activation='sigmoid', use_bias=True),\n",
        "        Dense(1, activation='sigmoid', use_bias=False)\n",
        "    ])\n",
        "\n",
        "    model.compile(\n",
        "        optimizer=tf.keras.optimizers.Adam(learning_rate=1e-3),\n",
        "        loss=tf.keras.losses.mean_squared_error,\n",
        "        metrics='accuracy'\n",
        "    )\n",
        "    print(\"Scope:\", scope)"
      ],
      "metadata": {
        "colab": {
          "base_uri": "https://localhost:8080/"
        },
        "id": "VZ4DmpJMX0bM",
        "outputId": "632bfbbe-923d-4e7b-faa8-df2507919f1e"
      },
      "execution_count": 9,
      "outputs": [
        {
          "output_type": "stream",
          "name": "stdout",
          "text": [
            "Scope: <tensorflow.python.distribute.mirrored_strategy.MirroredStrategy object at 0x7f83bdb19f90>\n"
          ]
        }
      ]
    },
    {
      "cell_type": "code",
      "source": [
        "#\n",
        "dataset = tf.data.Dataset.from_tensor_slices((\n",
        "  tf.constant(A, dtype=tf.float32),\n",
        "  tf.constant(V, dtype=tf.float32)\n",
        ")).shuffle(len(A) * 2, reshuffle_each_iteration=True).batch(1000).repeat()\n",
        "if os.path.isfile(\"smart_colab_duckling.h5\"):\n",
        "    model.load_weights(\"smart_colab_duckling.h5\")\n",
        "    print(\"Сеть уже была научена раньше.\")\n",
        "else:\n",
        "    print(\"Учим сеть...\")\n",
        "    model.fit(\\\n",
        "        dataset, \\\n",
        "        epochs=10, \\\n",
        "        steps_per_epoch=4000 \\\n",
        "      )\n",
        "\n",
        "    print(\"Научили сеть. Сохраним.\")\n",
        "    model.save_weights(\"smart_colab_duckling.h5\")"
      ],
      "metadata": {
        "colab": {
          "base_uri": "https://localhost:8080/"
        },
        "id": "LPeNJEpNYFz9",
        "outputId": "718a6dac-364e-4545-ffc2-93934cd81191"
      },
      "execution_count": 10,
      "outputs": [
        {
          "output_type": "stream",
          "name": "stdout",
          "text": [
            "Учим сеть...\n",
            "Epoch 1/10\n",
            "4000/4000 [==============================] - 19s 4ms/step - loss: 0.1931 - accuracy: 0.7422\n",
            "Epoch 2/10\n",
            "4000/4000 [==============================] - 14s 4ms/step - loss: 0.0927 - accuracy: 0.8912\n",
            "Epoch 3/10\n",
            "4000/4000 [==============================] - 14s 4ms/step - loss: 0.0495 - accuracy: 0.9522\n",
            "Epoch 4/10\n",
            "4000/4000 [==============================] - 14s 3ms/step - loss: 0.0314 - accuracy: 0.9697\n",
            "Epoch 5/10\n",
            "4000/4000 [==============================] - 14s 4ms/step - loss: 0.0180 - accuracy: 0.9832\n",
            "Epoch 6/10\n",
            "4000/4000 [==============================] - 14s 4ms/step - loss: 0.0131 - accuracy: 0.9876\n",
            "Epoch 7/10\n",
            "4000/4000 [==============================] - 14s 4ms/step - loss: 0.0106 - accuracy: 0.9914\n",
            "Epoch 8/10\n",
            "4000/4000 [==============================] - 14s 3ms/step - loss: 0.0091 - accuracy: 0.9940\n",
            "Epoch 9/10\n",
            "4000/4000 [==============================] - 14s 4ms/step - loss: 0.0080 - accuracy: 0.9940\n",
            "Epoch 10/10\n",
            "4000/4000 [==============================] - 14s 4ms/step - loss: 0.0073 - accuracy: 0.9943\n",
            "Научили сеть. Сохраним.\n"
          ]
        }
      ]
    },
    {
      "cell_type": "code",
      "source": [
        "#\n",
        "import matplotlib.pyplot as plt\n",
        "\n",
        "plt.axis('equal')\n",
        "\n",
        "c = np.r_[-2:2:0.125]\n",
        "\n",
        "XY = np.transpose([np.tile(c, len(c)), np.repeat(c, len(c))])\n",
        "\n",
        "Z = model.predict(XY)\n",
        "\n",
        "for (x, y), z in zip(XY, Z):\n",
        "    plt.scatter(x, y, c='red' if z > 0.025 else 'green')\n",
        "\n",
        "plt.show()"
      ],
      "metadata": {
        "colab": {
          "base_uri": "https://localhost:8080/",
          "height": 266
        },
        "id": "KlpRPYpBYVjk",
        "outputId": "a000ca02-3b0b-4810-9598-546719a571ba"
      },
      "execution_count": 11,
      "outputs": [
        {
          "output_type": "display_data",
          "data": {
            "text/plain": [
              "<Figure size 432x288 with 1 Axes>"
            ],
            "image/png": "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\n"
          },
          "metadata": {
            "needs_background": "light"
          }
        }
      ]
    },
    {
      "cell_type": "code",
      "source": [
        "#\n",
        "plt.axis('equal')\n",
        "\n",
        "def saturate(v):\n",
        "    return min(1, max(0, v))\n",
        "\n",
        "for (x, y), z in zip(XY, Z):\n",
        "    plt.scatter(x, y, color=[(1, 1-saturate(z[0]), 1-saturate(z[0]))])\n",
        "\n",
        "plt.show()"
      ],
      "metadata": {
        "colab": {
          "base_uri": "https://localhost:8080/",
          "height": 266
        },
        "id": "y63_fFSKYa9C",
        "outputId": "be57efb4-e816-4c79-ca6f-f4cefca734bc"
      },
      "execution_count": 12,
      "outputs": [
        {
          "output_type": "display_data",
          "data": {
            "text/plain": [
              "<Figure size 432x288 with 1 Axes>"
            ],
            "image/png": "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\n"
          },
          "metadata": {
            "needs_background": "light"
          }
        }
      ]
    }
  ]
}
